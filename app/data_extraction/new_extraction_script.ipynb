{
 "cells": [
  {
   "cell_type": "markdown",
   "metadata": {},
   "source": [
    "# Extraction Script\n",
    "\n",
    "After using the [ROI extracting script](./roi_extracting_script.py) for getting all the regions of interest (ROI) of the diagrams, we will run easyOCR to recognize the characters.\n",
    "\n",
    "In order to avoid using too much computational power running easyOCR on each ROI, the ROIs will be divided into first dimension and second dimension sections. A first dimension section is where easyOCR will run, which are also the general sections of the car diagram (top, back, right, and left). The second dimension sections are the subparts of a first dimension section (doors, windows, etc).\n",
    "\n",
    "After running the OCR on the first dimension section, the script will compare the position of the element found and the coordinates of the subparts to determine in which second dimension section the element can be found. This will add detail to the data extraction, which will allow for better decision-making in the future."
   ]
  },
  {
   "cell_type": "code",
   "execution_count": 4,
   "metadata": {},
   "outputs": [
    {
     "data": {
      "text/html": [
       "<div>\n",
       "<style scoped>\n",
       "    .dataframe tbody tr th:only-of-type {\n",
       "        vertical-align: middle;\n",
       "    }\n",
       "\n",
       "    .dataframe tbody tr th {\n",
       "        vertical-align: top;\n",
       "    }\n",
       "\n",
       "    .dataframe thead th {\n",
       "        text-align: right;\n",
       "    }\n",
       "</style>\n",
       "<table border=\"1\" class=\"dataframe\">\n",
       "  <thead>\n",
       "    <tr style=\"text-align: right;\">\n",
       "      <th></th>\n",
       "      <th>roi_name</th>\n",
       "      <th>x</th>\n",
       "      <th>y</th>\n",
       "      <th>w</th>\n",
       "      <th>h</th>\n",
       "    </tr>\n",
       "  </thead>\n",
       "  <tbody>\n",
       "    <tr>\n",
       "      <th>0</th>\n",
       "      <td>right</td>\n",
       "      <td>29</td>\n",
       "      <td>168</td>\n",
       "      <td>1137</td>\n",
       "      <td>439</td>\n",
       "    </tr>\n",
       "    <tr>\n",
       "      <th>1</th>\n",
       "      <td>left</td>\n",
       "      <td>1255</td>\n",
       "      <td>180</td>\n",
       "      <td>1145</td>\n",
       "      <td>374</td>\n",
       "    </tr>\n",
       "    <tr>\n",
       "      <th>2</th>\n",
       "      <td>top</td>\n",
       "      <td>48</td>\n",
       "      <td>850</td>\n",
       "      <td>1491</td>\n",
       "      <td>662</td>\n",
       "    </tr>\n",
       "    <tr>\n",
       "      <th>3</th>\n",
       "      <td>back</td>\n",
       "      <td>1567</td>\n",
       "      <td>605</td>\n",
       "      <td>856</td>\n",
       "      <td>492</td>\n",
       "    </tr>\n",
       "  </tbody>\n",
       "</table>\n",
       "</div>"
      ],
      "text/plain": [
       "  roi_name     x    y     w    h\n",
       "0    right    29  168  1137  439\n",
       "1     left  1255  180  1145  374\n",
       "2      top    48  850  1491  662\n",
       "3     back  1567  605   856  492"
      ]
     },
     "execution_count": 4,
     "metadata": {},
     "output_type": "execute_result"
    }
   ],
   "source": [
    "import cv2\n",
    "import pandas as pd\n",
    "\n",
    "roi_general = pd.read_csv('./roi/roi_general.csv')\n",
    "\n",
    "roi_right = pd.read_csv('./roi/roi_right.csv')\n",
    "roi_left = pd.read_csv('./roi/roi_left.csv')\n",
    "roi_top = pd.read_csv('./roi/roi_top.csv')\n",
    "roi_back = pd.read_csv('./roi/roi_back.csv')\n",
    "\n",
    "roi_general"
   ]
  },
  {
   "cell_type": "code",
   "execution_count": 16,
   "metadata": {},
   "outputs": [
    {
     "name": "stdout",
     "output_type": "stream",
     "text": [
      "roi_name    right\n",
      "x              29\n",
      "y             168\n",
      "w            1137\n",
      "h             439\n",
      "Name: 0, dtype: object\n",
      "roi_name    left\n",
      "x           1255\n",
      "y            180\n",
      "w           1145\n",
      "h            374\n",
      "Name: 1, dtype: object\n",
      "roi_name     top\n",
      "x             48\n",
      "y            850\n",
      "w           1491\n",
      "h            662\n",
      "Name: 2, dtype: object\n",
      "roi_name    back\n",
      "x           1567\n",
      "y            605\n",
      "w            856\n",
      "h            492\n",
      "Name: 3, dtype: object\n"
     ]
    }
   ],
   "source": [
    "def get_diagram_data(diagram):\n",
    "    for _, row in roi_general.iterrows():\n",
    "        print(row)\n",
    "\n",
    "img = cv2.imread('./diagrams/jpg_files/DA4407PE_diagram.pdf-1.jpg')\n",
    "\n",
    "get_diagram_data(img)"
   ]
  }
 ],
 "metadata": {
  "kernelspec": {
   "display_name": ".venv",
   "language": "python",
   "name": "python3"
  },
  "language_info": {
   "codemirror_mode": {
    "name": "ipython",
    "version": 3
   },
   "file_extension": ".py",
   "mimetype": "text/x-python",
   "name": "python",
   "nbconvert_exporter": "python",
   "pygments_lexer": "ipython3",
   "version": "3.12.4"
  }
 },
 "nbformat": 4,
 "nbformat_minor": 2
}
