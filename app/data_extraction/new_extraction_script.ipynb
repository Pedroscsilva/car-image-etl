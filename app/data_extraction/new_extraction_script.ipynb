{
 "cells": [
  {
   "cell_type": "markdown",
   "metadata": {},
   "source": [
    "# Extraction Script\n",
    "\n",
    "After using the [ROI extracting script](./roi_extracting_script.py) for getting all the regions of interest (ROI) of the diagrams, we will run easyOCR to recognize the characters.\n",
    "\n",
    "In order to avoid using too much computational power running easyOCR on each ROI, the ROIs will be divided into first dimension and second dimension sections. A first dimension section is where easyOCR will run, which are also the general sections of the car diagram (top, back, right, and left). The second dimension sections are the subparts of a first dimension section (doors, windows, etc).\n",
    "\n",
    "After running the OCR on the first dimension section, the script will compare the position of the element found and the coordinates of the subparts to determine in which second dimension section the element can be found. This will add detail to the data extraction, which will allow for better decision-making in the future."
   ]
  },
  {
   "cell_type": "code",
   "execution_count": 1,
   "metadata": {},
   "outputs": [
    {
     "name": "stderr",
     "output_type": "stream",
     "text": [
      "Neither CUDA nor MPS are available - defaulting to CPU. Note: This module is much faster with a GPU.\n",
      "/home/pedro/Desktop/psa-door-image-etl/.venv/lib/python3.12/site-packages/easyocr/detection.py:78: FutureWarning: You are using `torch.load` with `weights_only=False` (the current default value), which uses the default pickle module implicitly. It is possible to construct malicious pickle data which will execute arbitrary code during unpickling (See https://github.com/pytorch/pytorch/blob/main/SECURITY.md#untrusted-models for more details). In a future release, the default value for `weights_only` will be flipped to `True`. This limits the functions that could be executed during unpickling. Arbitrary objects will no longer be allowed to be loaded via this mode unless they are explicitly allowlisted by the user via `torch.serialization.add_safe_globals`. We recommend you start setting `weights_only=True` for any use case where you don't have full control of the loaded file. Please open an issue on GitHub for any issues related to this experimental feature.\n",
      "  net.load_state_dict(copyStateDict(torch.load(trained_model, map_location=device)))\n",
      "/home/pedro/Desktop/psa-door-image-etl/.venv/lib/python3.12/site-packages/easyocr/recognition.py:169: FutureWarning: You are using `torch.load` with `weights_only=False` (the current default value), which uses the default pickle module implicitly. It is possible to construct malicious pickle data which will execute arbitrary code during unpickling (See https://github.com/pytorch/pytorch/blob/main/SECURITY.md#untrusted-models for more details). In a future release, the default value for `weights_only` will be flipped to `True`. This limits the functions that could be executed during unpickling. Arbitrary objects will no longer be allowed to be loaded via this mode unless they are explicitly allowlisted by the user via `torch.serialization.add_safe_globals`. We recommend you start setting `weights_only=True` for any use case where you don't have full control of the loaded file. Please open an issue on GitHub for any issues related to this experimental feature.\n",
      "  state_dict = torch.load(model_path, map_location=device)\n"
     ]
    },
    {
     "data": {
      "text/html": [
       "<div>\n",
       "<style scoped>\n",
       "    .dataframe tbody tr th:only-of-type {\n",
       "        vertical-align: middle;\n",
       "    }\n",
       "\n",
       "    .dataframe tbody tr th {\n",
       "        vertical-align: top;\n",
       "    }\n",
       "\n",
       "    .dataframe thead th {\n",
       "        text-align: right;\n",
       "    }\n",
       "</style>\n",
       "<table border=\"1\" class=\"dataframe\">\n",
       "  <thead>\n",
       "    <tr style=\"text-align: right;\">\n",
       "      <th></th>\n",
       "      <th>roi_name</th>\n",
       "      <th>x</th>\n",
       "      <th>y</th>\n",
       "      <th>w</th>\n",
       "      <th>h</th>\n",
       "    </tr>\n",
       "  </thead>\n",
       "  <tbody>\n",
       "    <tr>\n",
       "      <th>0</th>\n",
       "      <td>right</td>\n",
       "      <td>29</td>\n",
       "      <td>168</td>\n",
       "      <td>1137</td>\n",
       "      <td>439</td>\n",
       "    </tr>\n",
       "    <tr>\n",
       "      <th>1</th>\n",
       "      <td>left</td>\n",
       "      <td>1255</td>\n",
       "      <td>180</td>\n",
       "      <td>1145</td>\n",
       "      <td>374</td>\n",
       "    </tr>\n",
       "    <tr>\n",
       "      <th>2</th>\n",
       "      <td>top</td>\n",
       "      <td>48</td>\n",
       "      <td>850</td>\n",
       "      <td>1491</td>\n",
       "      <td>662</td>\n",
       "    </tr>\n",
       "    <tr>\n",
       "      <th>3</th>\n",
       "      <td>back</td>\n",
       "      <td>1567</td>\n",
       "      <td>605</td>\n",
       "      <td>856</td>\n",
       "      <td>492</td>\n",
       "    </tr>\n",
       "  </tbody>\n",
       "</table>\n",
       "</div>"
      ],
      "text/plain": [
       "  roi_name     x    y     w    h\n",
       "0    right    29  168  1137  439\n",
       "1     left  1255  180  1145  374\n",
       "2      top    48  850  1491  662\n",
       "3     back  1567  605   856  492"
      ]
     },
     "execution_count": 1,
     "metadata": {},
     "output_type": "execute_result"
    }
   ],
   "source": [
    "import cv2\n",
    "import easyocr\n",
    "import numpy as np\n",
    "import pandas as pd\n",
    "\n",
    "reader = easyocr.Reader(['pt', 'en'])\n",
    "\n",
    "roi_general = pd.read_csv('./roi/roi_general.csv')\n",
    "\n",
    "roi_right = pd.read_csv('./roi/roi_right.csv')\n",
    "roi_left = pd.read_csv('./roi/roi_left.csv')\n",
    "roi_top = pd.read_csv('./roi/roi_top.csv')\n",
    "roi_back = pd.read_csv('./roi/roi_back.csv')\n",
    "\n",
    "\n",
    "roi_general"
   ]
  },
  {
   "cell_type": "code",
   "execution_count": 16,
   "metadata": {},
   "outputs": [
    {
     "name": "stdout",
     "output_type": "stream",
     "text": [
      "([[np.int32(1208), np.int32(112)], [np.int32(1256), np.int32(112)], [np.int32(1256), np.int32(164)], [np.int32(1208), np.int32(164)]], 'B', np.float64(0.9799148586453477))\n",
      "2    capot\n",
      "Name: roi_name, dtype: object\n",
      "([[np.int32(329), np.int32(431)], [np.int32(365), np.int32(431)], [np.int32(365), np.int32(477)], [np.int32(329), np.int32(477)]], 'B', np.float64(0.8503273435822543))\n",
      "0    top_up\n",
      "Name: roi_name, dtype: object\n"
     ]
    }
   ],
   "source": [
    "extracted_data = pd.DataFrame(columns=['car_no', 'gen_roi', 'roi', 'flaw_type'])\n",
    "\n",
    "def get_subpart(x, y, gen_roi):\n",
    "    subroi_df = globals()[f'roi_{gen_roi}']\n",
    "\n",
    "    # Filter rows where the x and y conditions are met\n",
    "    matching_rows = subroi_df[\n",
    "        (subroi_df['x'] <= x) & (x <= (subroi_df['x'] + subroi_df['w'])) &\n",
    "        (subroi_df['y'] <= y) & (y <= (subroi_df['y'] + subroi_df['h']))\n",
    "    ]\n",
    "\n",
    "    # Print the 'roi_name' of the matching rows\n",
    "    print(matching_rows['roi_name'])\n",
    "\n",
    "\n",
    "\n",
    "\n",
    "def add_subpart_to_df(data, gen_roi):\n",
    "    gen_roi_x = roi_general[roi_general['roi_name'] == gen_roi]['x'].item()\n",
    "    gen_roi_y = roi_general[roi_general['roi_name'] == gen_roi]['y'].item()\n",
    "\n",
    "    for flaw in data:\n",
    "        x = flaw[0][0][0]\n",
    "        y = flaw[0][0][1]\n",
    "\n",
    "        absolute_x = x + gen_roi_x\n",
    "        absolute_y = y + gen_roi_y\n",
    "\n",
    "        print(flaw)\n",
    "        \n",
    "        get_subpart(absolute_x, absolute_y, gen_roi)\n",
    "\n",
    "        \n",
    "        \n",
    "        \n",
    "\n",
    "def get_diagram_data(diagram_path):\n",
    "    img = cv2.imread(diagram_path)\n",
    "    # variables = globals()\n",
    "    for _, row in roi_general.iterrows():\n",
    "        cutted_img = img[row['y']: row['y'] + row['h'], row['x']: row['x'] + row['w']]\n",
    "\n",
    "        result = reader.readtext(cutted_img, text_threshold=0.1)\n",
    "\n",
    "        add_subpart_to_df(result, row['roi_name'])\n",
    "        # print(result)\n",
    "\n",
    "\n",
    "get_diagram_data('./diagrams/jpg_files/TO3980KZ_diagram.pdf-1.jpg')"
   ]
  }
 ],
 "metadata": {
  "kernelspec": {
   "display_name": ".venv",
   "language": "python",
   "name": "python3"
  },
  "language_info": {
   "codemirror_mode": {
    "name": "ipython",
    "version": 3
   },
   "file_extension": ".py",
   "mimetype": "text/x-python",
   "name": "python",
   "nbconvert_exporter": "python",
   "pygments_lexer": "ipython3",
   "version": "3.12.4"
  }
 },
 "nbformat": 4,
 "nbformat_minor": 2
}
